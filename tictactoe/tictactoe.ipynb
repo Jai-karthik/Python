{
 "cells": [
  {
   "cell_type": "code",
   "execution_count": null,
   "metadata": {},
   "outputs": [],
   "source": [
    "#import os\n",
    "#clear = lambda: os.system('cls')\n",
    "#clear()\n",
    "\n",
    "from IPython.display import clear_output\n"
   ]
  },
  {
   "cell_type": "code",
   "execution_count": null,
   "metadata": {},
   "outputs": [],
   "source": [
    "tictac = [\"#\",\" \",\" \",\" \",\" \",\" \",\" \",\" \",\" \",\" \"]\n",
    "player1_name = \"\"\n",
    "player2_name = \"\"\n",
    "\n",
    "def displayBoard():\n",
    "    print(\"\\u0332\"+tictac[7]+\"|\"+\"\\u0332\"+tictac[8]+\"|\"+\"\\u0332\"+tictac[9])\n",
    "    print(\"\\u0332\"+tictac[4]+\"|\"+\"\\u0332\"+tictac[5]+\"|\"+\"\\u0332\"+tictac[6])\n",
    "    print(tictac[1]+\"|\"+tictac[2]+\"|\"+tictac[3])\n",
    "\n",
    "def gameReady():\n",
    "    print(\"General instruction: Board resembles your numberpad in right part of keyboard.\")\n",
    "    print(\"\\u03327|\\u03328|\\u03329\")\n",
    "    print(\"\\u03324|\\u03325|\\u03326\")\n",
    "    print(\"1|2|3\")\n",
    "    start = input(\"Are you ready? Y/N:  \")\n",
    "    if(start.lower() == 'y'):\n",
    "        global tictac\n",
    "        tictac = [\"#\",\" \",\" \",\" \",\" \",\" \",\" \",\" \",\" \",\" \"]\n",
    "        displayBoard()\n",
    "        playerSelect()\n",
    "\n",
    "#displayBoard()\n",
    "#gameReady()"
   ]
  },
  {
   "cell_type": "code",
   "execution_count": null,
   "metadata": {},
   "outputs": [],
   "source": [
    "def playerSelect():\n",
    "    global player1_name\n",
    "    global player2_name\n",
    "    player1_name = input(\"Name of Player 1:   \")\n",
    "    player2_name = input(\"Name of Player 2:   \")\n",
    "    if(player1_name == player2_name):        \n",
    "        print(\"Player Names should be different\")\n",
    "        playerSelect()\n",
    "    else:\n",
    "        gamePlay1()\n",
    "    \n",
    "#playerSelect()\n",
    "    "
   ]
  },
  {
   "cell_type": "code",
   "execution_count": null,
   "metadata": {},
   "outputs": [],
   "source": [
    "def gamePlay1():\n",
    "\n",
    "    player1 = int(input(f\"{player1_name} '(x)' select your cell:   \"))\n",
    "    if tictac[player1] != \"x\" and  tictac[player1] != 'o':\n",
    "        tictac[player1] = 'x'\n",
    "        if(tictac[1] == tictac[2] == tictac[3] == 'x' or\n",
    "              tictac[1] == tictac[4] == tictac[7] == 'x' or\n",
    "              tictac[1] == tictac[5] == tictac[9] == 'x' or\n",
    "              tictac[2] == tictac[5] == tictac[8] == 'x' or\n",
    "              tictac[3] == tictac[6] == tictac[9] == 'x' or\n",
    "              tictac[3] == tictac[5] == tictac[7] == 'x' or\n",
    "              tictac[4] == tictac[5] == tictac[6] == 'x' or\n",
    "              tictac[7] == tictac[8] == tictac[9] == 'x'):\n",
    "                clear_output()\n",
    "                displayBoard()\n",
    "                gameOver(player1_name)\n",
    "        elif(tictac.count('x') == 5):\n",
    "            print(\"Match tie!!\")\n",
    "            new_match = input(\"Start new match? Y/N:  \")\n",
    "            if(new_match.lower() == 'y'):\n",
    "                gameReady()\n",
    "                clear_output()\n",
    "        else:\n",
    "            clear_output()\n",
    "            displayBoard()\n",
    "            gamePlay2()\n",
    "\n",
    "    else:\n",
    "        print(\"Value is already available. Select an empty cell\")\n",
    "        gamePlay1()\n"
   ]
  },
  {
   "cell_type": "code",
   "execution_count": null,
   "metadata": {},
   "outputs": [],
   "source": [
    "def gamePlay2():\n",
    "   \n",
    "    player2 = int(input(f\"{player2_name} '(o)' select your cell:   \"))\n",
    "    if tictac[player2] != \"x\" and  tictac[player2] != 'o':\n",
    "        tictac[player2] = 'o' \n",
    "        if(tictac[1] == tictac[2] == tictac[3] == 'o' or\n",
    "          tictac[1] == tictac[4] == tictac[7] == 'o' or\n",
    "          tictac[1] == tictac[5] == tictac[9] == 'o' or\n",
    "          tictac[2] == tictac[5] == tictac[8] == 'o' or\n",
    "          tictac[3] == tictac[6] == tictac[9] == 'o' or\n",
    "          tictac[3] == tictac[5] == tictac[7] == 'o' or\n",
    "          tictac[4] == tictac[5] == tictac[6] == 'o' or\n",
    "          tictac[7] == tictac[8] == tictac[9] == 'o'):\n",
    "            clear_output()\n",
    "            displayBoard()\n",
    "            gameOver(player2_name)\n",
    "        else:\n",
    "            clear_output()\n",
    "            displayBoard()\n",
    "            gamePlay1()\n",
    "        \n",
    "    else:        \n",
    "        print(\"Value is already available. Select an empty cell\")\n",
    "        gamePlay2()\n",
    "    "
   ]
  },
  {
   "cell_type": "code",
   "execution_count": null,
   "metadata": {},
   "outputs": [],
   "source": [
    "def gameOver(player):\n",
    "    print(f'{player} won the match!!')\n",
    "    new_match = input(\"Start new match? Y/N:  \")\n",
    "    if(new_match.lower() == 'y'):\n",
    "        gameReady()\n",
    "    \n",
    "    "
   ]
  },
  {
   "cell_type": "code",
   "execution_count": null,
   "metadata": {},
   "outputs": [],
   "source": [
    "gameReady()"
   ]
  },
  {
   "cell_type": "code",
   "execution_count": null,
   "metadata": {},
   "outputs": [],
   "source": []
  }
 ],
 "metadata": {
  "kernelspec": {
   "display_name": "Python 3",
   "language": "python",
   "name": "python3"
  },
  "language_info": {
   "codemirror_mode": {
    "name": "ipython",
    "version": 3
   },
   "file_extension": ".py",
   "mimetype": "text/x-python",
   "name": "python",
   "nbconvert_exporter": "python",
   "pygments_lexer": "ipython3",
   "version": "3.7.3"
  }
 },
 "nbformat": 4,
 "nbformat_minor": 2
}
