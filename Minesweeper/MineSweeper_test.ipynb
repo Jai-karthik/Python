{
 "cells": [
  {
   "cell_type": "code",
   "execution_count": 1,
   "metadata": {},
   "outputs": [],
   "source": [
    "import tkinter as tk"
   ]
  },
  {
   "cell_type": "code",
   "execution_count": 14,
   "metadata": {},
   "outputs": [],
   "source": [
    "main=tk.Tk()\n",
    "frame1 = tk.Frame(main)\n",
    "frame1.pack()\n",
    "frame2 = tk.Frame(main)\n",
    "frame2.pack()\n",
    "btn_text = tk.StringVar()\n",
    "btn_text.set(\"a\")\n",
    "x=0\n",
    "b1 = tk.Button(frame1, textvariable=btn_text, width=5,state= 'normal',borderwidth=1, command = lambda button=0: press(button))\n",
    "b2 = tk.Button(frame1, text='b2', width=5,borderwidth=1, bg ='lightgrey' ) \n",
    "b3 = tk.Button(frame1, text='b3', width=5) \n",
    "b4 = tk.Button(frame1, text='b4', width=5) \n",
    "b5 = tk.Button(frame1, text='b5', width=5) \n",
    "b6 = tk.Button(frame1, text='b6', width=5) \n",
    "b7 = tk.Button(frame1, text='b7', width=5) \n",
    "b8 = tk.Button(frame1, text='b8', width=5)\n",
    "b9 = tk.Button(frame1, text='b9', width=5) \n"
   ]
  },
  {
   "cell_type": "code",
   "execution_count": 15,
   "metadata": {},
   "outputs": [],
   "source": [
    "l = [b1,b2,b3,b4,b5,b6,b7,b8,b9]\n"
   ]
  },
  {
   "cell_type": "code",
   "execution_count": 16,
   "metadata": {},
   "outputs": [],
   "source": [
    "def press(button):\n",
    "    btn_text.set(\"hi\")\n",
    "    l[button].config(state=\"disabled\")\n",
    "    #l[button].config(value=\"pressed\")\n",
    "    print(l[button].value)\n",
    "    \n",
    "    "
   ]
  },
  {
   "cell_type": "code",
   "execution_count": null,
   "metadata": {},
   "outputs": [],
   "source": []
  },
  {
   "cell_type": "code",
   "execution_count": 17,
   "metadata": {},
   "outputs": [],
   "source": [
    "x = 0\n",
    "for i in range(3):\n",
    "    for j in range(3):\n",
    "        l[x].grid(row =i, column = j)\n",
    "        x +=1"
   ]
  },
  {
   "cell_type": "code",
   "execution_count": 18,
   "metadata": {},
   "outputs": [],
   "source": [
    "w = tk.Label(frame2, text='Success!') \n",
    "w.pack()"
   ]
  },
  {
   "cell_type": "code",
   "execution_count": null,
   "metadata": {},
   "outputs": [],
   "source": []
  },
  {
   "cell_type": "code",
   "execution_count": 19,
   "metadata": {},
   "outputs": [],
   "source": [
    "main.mainloop()"
   ]
  },
  {
   "cell_type": "code",
   "execution_count": null,
   "metadata": {},
   "outputs": [],
   "source": []
  },
  {
   "cell_type": "code",
   "execution_count": null,
   "metadata": {},
   "outputs": [],
   "source": []
  },
  {
   "cell_type": "code",
   "execution_count": null,
   "metadata": {},
   "outputs": [],
   "source": []
  },
  {
   "cell_type": "code",
   "execution_count": null,
   "metadata": {},
   "outputs": [],
   "source": []
  },
  {
   "cell_type": "code",
   "execution_count": null,
   "metadata": {},
   "outputs": [],
   "source": []
  },
  {
   "cell_type": "code",
   "execution_count": null,
   "metadata": {},
   "outputs": [],
   "source": []
  },
  {
   "cell_type": "code",
   "execution_count": null,
   "metadata": {},
   "outputs": [],
   "source": []
  },
  {
   "cell_type": "code",
   "execution_count": null,
   "metadata": {},
   "outputs": [],
   "source": []
  }
 ],
 "metadata": {
  "kernelspec": {
   "display_name": "Python 3",
   "language": "python",
   "name": "python3"
  },
  "language_info": {
   "codemirror_mode": {
    "name": "ipython",
    "version": 3
   },
   "file_extension": ".py",
   "mimetype": "text/x-python",
   "name": "python",
   "nbconvert_exporter": "python",
   "pygments_lexer": "ipython3",
   "version": "3.7.3"
  }
 },
 "nbformat": 4,
 "nbformat_minor": 2
}
