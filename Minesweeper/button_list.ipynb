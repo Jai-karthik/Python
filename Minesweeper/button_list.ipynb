{
 "cells": [
  {
   "cell_type": "code",
   "execution_count": 1,
   "metadata": {},
   "outputs": [],
   "source": [
    "import tkinter as tk"
   ]
  },
  {
   "cell_type": "code",
   "execution_count": 2,
   "metadata": {},
   "outputs": [],
   "source": [
    "main_window = tk.Tk()\n",
    "main_window.title('Minesweeper')\n",
    "button_frame = tk.Frame(main_window)\n",
    "button_frame.pack()"
   ]
  },
  {
   "cell_type": "code",
   "execution_count": 3,
   "metadata": {},
   "outputs": [],
   "source": [
    "button_names = []\n",
    "btn_texts = [\"\"]*100\n",
    "for i in range(1,101,1):\n",
    "    button_names.append(\"b\"+str(i))\n",
    "    btn_texts[i-1] = tk.StringVar()\n",
    "    btn_texts[i-1].set(\"\")\n",
    "    #btn_texts[i-1].set(\"b\"+str(i))"
   ]
  },
  {
   "cell_type": "code",
   "execution_count": 7,
   "metadata": {},
   "outputs": [
    {
     "name": "stdout",
     "output_type": "stream",
     "text": [
      "{'in': <tkinter.Frame object .!frame>, 'column': 0, 'row': 0, 'columnspan': 1, 'rowspan': 1, 'ipadx': 0, 'ipady': 0, 'padx': 0, 'pady': 0, 'sticky': ''}\n",
      "{'in': <tkinter.Frame object .!frame>, 'column': 1, 'row': 0, 'columnspan': 1, 'rowspan': 1, 'ipadx': 0, 'ipady': 0, 'padx': 0, 'pady': 0, 'sticky': ''}\n",
      "{'in': <tkinter.Frame object .!frame>, 'column': 2, 'row': 0, 'columnspan': 1, 'rowspan': 1, 'ipadx': 0, 'ipady': 0, 'padx': 0, 'pady': 0, 'sticky': ''}\n",
      "{'in': <tkinter.Frame object .!frame>, 'column': 3, 'row': 0, 'columnspan': 1, 'rowspan': 1, 'ipadx': 0, 'ipady': 0, 'padx': 0, 'pady': 0, 'sticky': ''}\n",
      "{'in': <tkinter.Frame object .!frame>, 'column': 4, 'row': 0, 'columnspan': 1, 'rowspan': 1, 'ipadx': 0, 'ipady': 0, 'padx': 0, 'pady': 0, 'sticky': ''}\n",
      "{'in': <tkinter.Frame object .!frame>, 'column': 5, 'row': 0, 'columnspan': 1, 'rowspan': 1, 'ipadx': 0, 'ipady': 0, 'padx': 0, 'pady': 0, 'sticky': ''}\n",
      "{'in': <tkinter.Frame object .!frame>, 'column': 6, 'row': 0, 'columnspan': 1, 'rowspan': 1, 'ipadx': 0, 'ipady': 0, 'padx': 0, 'pady': 0, 'sticky': ''}\n",
      "{'in': <tkinter.Frame object .!frame>, 'column': 7, 'row': 0, 'columnspan': 1, 'rowspan': 1, 'ipadx': 0, 'ipady': 0, 'padx': 0, 'pady': 0, 'sticky': ''}\n",
      "{'in': <tkinter.Frame object .!frame>, 'column': 8, 'row': 0, 'columnspan': 1, 'rowspan': 1, 'ipadx': 0, 'ipady': 0, 'padx': 0, 'pady': 0, 'sticky': ''}\n",
      "{'in': <tkinter.Frame object .!frame>, 'column': 9, 'row': 0, 'columnspan': 1, 'rowspan': 1, 'ipadx': 0, 'ipady': 0, 'padx': 0, 'pady': 0, 'sticky': ''}\n",
      "{'in': <tkinter.Frame object .!frame>, 'column': 0, 'row': 1, 'columnspan': 1, 'rowspan': 1, 'ipadx': 0, 'ipady': 0, 'padx': 0, 'pady': 0, 'sticky': ''}\n",
      "{'in': <tkinter.Frame object .!frame>, 'column': 1, 'row': 1, 'columnspan': 1, 'rowspan': 1, 'ipadx': 0, 'ipady': 0, 'padx': 0, 'pady': 0, 'sticky': ''}\n",
      "{'in': <tkinter.Frame object .!frame>, 'column': 2, 'row': 1, 'columnspan': 1, 'rowspan': 1, 'ipadx': 0, 'ipady': 0, 'padx': 0, 'pady': 0, 'sticky': ''}\n",
      "{'in': <tkinter.Frame object .!frame>, 'column': 3, 'row': 1, 'columnspan': 1, 'rowspan': 1, 'ipadx': 0, 'ipady': 0, 'padx': 0, 'pady': 0, 'sticky': ''}\n",
      "{'in': <tkinter.Frame object .!frame>, 'column': 4, 'row': 1, 'columnspan': 1, 'rowspan': 1, 'ipadx': 0, 'ipady': 0, 'padx': 0, 'pady': 0, 'sticky': ''}\n",
      "{'in': <tkinter.Frame object .!frame>, 'column': 5, 'row': 1, 'columnspan': 1, 'rowspan': 1, 'ipadx': 0, 'ipady': 0, 'padx': 0, 'pady': 0, 'sticky': ''}\n",
      "{'in': <tkinter.Frame object .!frame>, 'column': 6, 'row': 1, 'columnspan': 1, 'rowspan': 1, 'ipadx': 0, 'ipady': 0, 'padx': 0, 'pady': 0, 'sticky': ''}\n",
      "{'in': <tkinter.Frame object .!frame>, 'column': 7, 'row': 1, 'columnspan': 1, 'rowspan': 1, 'ipadx': 0, 'ipady': 0, 'padx': 0, 'pady': 0, 'sticky': ''}\n",
      "{'in': <tkinter.Frame object .!frame>, 'column': 8, 'row': 1, 'columnspan': 1, 'rowspan': 1, 'ipadx': 0, 'ipady': 0, 'padx': 0, 'pady': 0, 'sticky': ''}\n",
      "{'in': <tkinter.Frame object .!frame>, 'column': 9, 'row': 1, 'columnspan': 1, 'rowspan': 1, 'ipadx': 0, 'ipady': 0, 'padx': 0, 'pady': 0, 'sticky': ''}\n",
      "{'in': <tkinter.Frame object .!frame>, 'column': 0, 'row': 2, 'columnspan': 1, 'rowspan': 1, 'ipadx': 0, 'ipady': 0, 'padx': 0, 'pady': 0, 'sticky': ''}\n",
      "{'in': <tkinter.Frame object .!frame>, 'column': 1, 'row': 2, 'columnspan': 1, 'rowspan': 1, 'ipadx': 0, 'ipady': 0, 'padx': 0, 'pady': 0, 'sticky': ''}\n",
      "{'in': <tkinter.Frame object .!frame>, 'column': 2, 'row': 2, 'columnspan': 1, 'rowspan': 1, 'ipadx': 0, 'ipady': 0, 'padx': 0, 'pady': 0, 'sticky': ''}\n",
      "{'in': <tkinter.Frame object .!frame>, 'column': 3, 'row': 2, 'columnspan': 1, 'rowspan': 1, 'ipadx': 0, 'ipady': 0, 'padx': 0, 'pady': 0, 'sticky': ''}\n",
      "{'in': <tkinter.Frame object .!frame>, 'column': 4, 'row': 2, 'columnspan': 1, 'rowspan': 1, 'ipadx': 0, 'ipady': 0, 'padx': 0, 'pady': 0, 'sticky': ''}\n",
      "{'in': <tkinter.Frame object .!frame>, 'column': 5, 'row': 2, 'columnspan': 1, 'rowspan': 1, 'ipadx': 0, 'ipady': 0, 'padx': 0, 'pady': 0, 'sticky': ''}\n",
      "{'in': <tkinter.Frame object .!frame>, 'column': 6, 'row': 2, 'columnspan': 1, 'rowspan': 1, 'ipadx': 0, 'ipady': 0, 'padx': 0, 'pady': 0, 'sticky': ''}\n",
      "{'in': <tkinter.Frame object .!frame>, 'column': 7, 'row': 2, 'columnspan': 1, 'rowspan': 1, 'ipadx': 0, 'ipady': 0, 'padx': 0, 'pady': 0, 'sticky': ''}\n",
      "{'in': <tkinter.Frame object .!frame>, 'column': 8, 'row': 2, 'columnspan': 1, 'rowspan': 1, 'ipadx': 0, 'ipady': 0, 'padx': 0, 'pady': 0, 'sticky': ''}\n",
      "{'in': <tkinter.Frame object .!frame>, 'column': 9, 'row': 2, 'columnspan': 1, 'rowspan': 1, 'ipadx': 0, 'ipady': 0, 'padx': 0, 'pady': 0, 'sticky': ''}\n",
      "{'in': <tkinter.Frame object .!frame>, 'column': 0, 'row': 3, 'columnspan': 1, 'rowspan': 1, 'ipadx': 0, 'ipady': 0, 'padx': 0, 'pady': 0, 'sticky': ''}\n",
      "{'in': <tkinter.Frame object .!frame>, 'column': 1, 'row': 3, 'columnspan': 1, 'rowspan': 1, 'ipadx': 0, 'ipady': 0, 'padx': 0, 'pady': 0, 'sticky': ''}\n",
      "{'in': <tkinter.Frame object .!frame>, 'column': 2, 'row': 3, 'columnspan': 1, 'rowspan': 1, 'ipadx': 0, 'ipady': 0, 'padx': 0, 'pady': 0, 'sticky': ''}\n",
      "{'in': <tkinter.Frame object .!frame>, 'column': 3, 'row': 3, 'columnspan': 1, 'rowspan': 1, 'ipadx': 0, 'ipady': 0, 'padx': 0, 'pady': 0, 'sticky': ''}\n",
      "{'in': <tkinter.Frame object .!frame>, 'column': 4, 'row': 3, 'columnspan': 1, 'rowspan': 1, 'ipadx': 0, 'ipady': 0, 'padx': 0, 'pady': 0, 'sticky': ''}\n",
      "{'in': <tkinter.Frame object .!frame>, 'column': 5, 'row': 3, 'columnspan': 1, 'rowspan': 1, 'ipadx': 0, 'ipady': 0, 'padx': 0, 'pady': 0, 'sticky': ''}\n",
      "{'in': <tkinter.Frame object .!frame>, 'column': 6, 'row': 3, 'columnspan': 1, 'rowspan': 1, 'ipadx': 0, 'ipady': 0, 'padx': 0, 'pady': 0, 'sticky': ''}\n",
      "{'in': <tkinter.Frame object .!frame>, 'column': 7, 'row': 3, 'columnspan': 1, 'rowspan': 1, 'ipadx': 0, 'ipady': 0, 'padx': 0, 'pady': 0, 'sticky': ''}\n",
      "{'in': <tkinter.Frame object .!frame>, 'column': 8, 'row': 3, 'columnspan': 1, 'rowspan': 1, 'ipadx': 0, 'ipady': 0, 'padx': 0, 'pady': 0, 'sticky': ''}\n",
      "{'in': <tkinter.Frame object .!frame>, 'column': 9, 'row': 3, 'columnspan': 1, 'rowspan': 1, 'ipadx': 0, 'ipady': 0, 'padx': 0, 'pady': 0, 'sticky': ''}\n",
      "{'in': <tkinter.Frame object .!frame>, 'column': 0, 'row': 4, 'columnspan': 1, 'rowspan': 1, 'ipadx': 0, 'ipady': 0, 'padx': 0, 'pady': 0, 'sticky': ''}\n",
      "{'in': <tkinter.Frame object .!frame>, 'column': 1, 'row': 4, 'columnspan': 1, 'rowspan': 1, 'ipadx': 0, 'ipady': 0, 'padx': 0, 'pady': 0, 'sticky': ''}\n",
      "{'in': <tkinter.Frame object .!frame>, 'column': 2, 'row': 4, 'columnspan': 1, 'rowspan': 1, 'ipadx': 0, 'ipady': 0, 'padx': 0, 'pady': 0, 'sticky': ''}\n",
      "{'in': <tkinter.Frame object .!frame>, 'column': 3, 'row': 4, 'columnspan': 1, 'rowspan': 1, 'ipadx': 0, 'ipady': 0, 'padx': 0, 'pady': 0, 'sticky': ''}\n",
      "{'in': <tkinter.Frame object .!frame>, 'column': 4, 'row': 4, 'columnspan': 1, 'rowspan': 1, 'ipadx': 0, 'ipady': 0, 'padx': 0, 'pady': 0, 'sticky': ''}\n",
      "{'in': <tkinter.Frame object .!frame>, 'column': 5, 'row': 4, 'columnspan': 1, 'rowspan': 1, 'ipadx': 0, 'ipady': 0, 'padx': 0, 'pady': 0, 'sticky': ''}\n",
      "{'in': <tkinter.Frame object .!frame>, 'column': 6, 'row': 4, 'columnspan': 1, 'rowspan': 1, 'ipadx': 0, 'ipady': 0, 'padx': 0, 'pady': 0, 'sticky': ''}\n",
      "{'in': <tkinter.Frame object .!frame>, 'column': 7, 'row': 4, 'columnspan': 1, 'rowspan': 1, 'ipadx': 0, 'ipady': 0, 'padx': 0, 'pady': 0, 'sticky': ''}\n",
      "{'in': <tkinter.Frame object .!frame>, 'column': 8, 'row': 4, 'columnspan': 1, 'rowspan': 1, 'ipadx': 0, 'ipady': 0, 'padx': 0, 'pady': 0, 'sticky': ''}\n",
      "{'in': <tkinter.Frame object .!frame>, 'column': 9, 'row': 4, 'columnspan': 1, 'rowspan': 1, 'ipadx': 0, 'ipady': 0, 'padx': 0, 'pady': 0, 'sticky': ''}\n",
      "{'in': <tkinter.Frame object .!frame>, 'column': 0, 'row': 5, 'columnspan': 1, 'rowspan': 1, 'ipadx': 0, 'ipady': 0, 'padx': 0, 'pady': 0, 'sticky': ''}\n",
      "{'in': <tkinter.Frame object .!frame>, 'column': 1, 'row': 5, 'columnspan': 1, 'rowspan': 1, 'ipadx': 0, 'ipady': 0, 'padx': 0, 'pady': 0, 'sticky': ''}\n",
      "{'in': <tkinter.Frame object .!frame>, 'column': 2, 'row': 5, 'columnspan': 1, 'rowspan': 1, 'ipadx': 0, 'ipady': 0, 'padx': 0, 'pady': 0, 'sticky': ''}\n",
      "{'in': <tkinter.Frame object .!frame>, 'column': 3, 'row': 5, 'columnspan': 1, 'rowspan': 1, 'ipadx': 0, 'ipady': 0, 'padx': 0, 'pady': 0, 'sticky': ''}\n",
      "{'in': <tkinter.Frame object .!frame>, 'column': 4, 'row': 5, 'columnspan': 1, 'rowspan': 1, 'ipadx': 0, 'ipady': 0, 'padx': 0, 'pady': 0, 'sticky': ''}\n",
      "{'in': <tkinter.Frame object .!frame>, 'column': 5, 'row': 5, 'columnspan': 1, 'rowspan': 1, 'ipadx': 0, 'ipady': 0, 'padx': 0, 'pady': 0, 'sticky': ''}\n",
      "{'in': <tkinter.Frame object .!frame>, 'column': 6, 'row': 5, 'columnspan': 1, 'rowspan': 1, 'ipadx': 0, 'ipady': 0, 'padx': 0, 'pady': 0, 'sticky': ''}\n",
      "{'in': <tkinter.Frame object .!frame>, 'column': 7, 'row': 5, 'columnspan': 1, 'rowspan': 1, 'ipadx': 0, 'ipady': 0, 'padx': 0, 'pady': 0, 'sticky': ''}\n",
      "{'in': <tkinter.Frame object .!frame>, 'column': 8, 'row': 5, 'columnspan': 1, 'rowspan': 1, 'ipadx': 0, 'ipady': 0, 'padx': 0, 'pady': 0, 'sticky': ''}\n",
      "{'in': <tkinter.Frame object .!frame>, 'column': 9, 'row': 5, 'columnspan': 1, 'rowspan': 1, 'ipadx': 0, 'ipady': 0, 'padx': 0, 'pady': 0, 'sticky': ''}\n",
      "{'in': <tkinter.Frame object .!frame>, 'column': 0, 'row': 6, 'columnspan': 1, 'rowspan': 1, 'ipadx': 0, 'ipady': 0, 'padx': 0, 'pady': 0, 'sticky': ''}\n",
      "{'in': <tkinter.Frame object .!frame>, 'column': 1, 'row': 6, 'columnspan': 1, 'rowspan': 1, 'ipadx': 0, 'ipady': 0, 'padx': 0, 'pady': 0, 'sticky': ''}\n",
      "{'in': <tkinter.Frame object .!frame>, 'column': 2, 'row': 6, 'columnspan': 1, 'rowspan': 1, 'ipadx': 0, 'ipady': 0, 'padx': 0, 'pady': 0, 'sticky': ''}\n",
      "{'in': <tkinter.Frame object .!frame>, 'column': 3, 'row': 6, 'columnspan': 1, 'rowspan': 1, 'ipadx': 0, 'ipady': 0, 'padx': 0, 'pady': 0, 'sticky': ''}\n",
      "{'in': <tkinter.Frame object .!frame>, 'column': 4, 'row': 6, 'columnspan': 1, 'rowspan': 1, 'ipadx': 0, 'ipady': 0, 'padx': 0, 'pady': 0, 'sticky': ''}\n",
      "{'in': <tkinter.Frame object .!frame>, 'column': 5, 'row': 6, 'columnspan': 1, 'rowspan': 1, 'ipadx': 0, 'ipady': 0, 'padx': 0, 'pady': 0, 'sticky': ''}\n",
      "{'in': <tkinter.Frame object .!frame>, 'column': 6, 'row': 6, 'columnspan': 1, 'rowspan': 1, 'ipadx': 0, 'ipady': 0, 'padx': 0, 'pady': 0, 'sticky': ''}\n",
      "{'in': <tkinter.Frame object .!frame>, 'column': 7, 'row': 6, 'columnspan': 1, 'rowspan': 1, 'ipadx': 0, 'ipady': 0, 'padx': 0, 'pady': 0, 'sticky': ''}\n",
      "{'in': <tkinter.Frame object .!frame>, 'column': 8, 'row': 6, 'columnspan': 1, 'rowspan': 1, 'ipadx': 0, 'ipady': 0, 'padx': 0, 'pady': 0, 'sticky': ''}\n",
      "{'in': <tkinter.Frame object .!frame>, 'column': 9, 'row': 6, 'columnspan': 1, 'rowspan': 1, 'ipadx': 0, 'ipady': 0, 'padx': 0, 'pady': 0, 'sticky': ''}\n",
      "{'in': <tkinter.Frame object .!frame>, 'column': 0, 'row': 7, 'columnspan': 1, 'rowspan': 1, 'ipadx': 0, 'ipady': 0, 'padx': 0, 'pady': 0, 'sticky': ''}\n",
      "{'in': <tkinter.Frame object .!frame>, 'column': 1, 'row': 7, 'columnspan': 1, 'rowspan': 1, 'ipadx': 0, 'ipady': 0, 'padx': 0, 'pady': 0, 'sticky': ''}\n",
      "{'in': <tkinter.Frame object .!frame>, 'column': 2, 'row': 7, 'columnspan': 1, 'rowspan': 1, 'ipadx': 0, 'ipady': 0, 'padx': 0, 'pady': 0, 'sticky': ''}\n",
      "{'in': <tkinter.Frame object .!frame>, 'column': 3, 'row': 7, 'columnspan': 1, 'rowspan': 1, 'ipadx': 0, 'ipady': 0, 'padx': 0, 'pady': 0, 'sticky': ''}\n",
      "{'in': <tkinter.Frame object .!frame>, 'column': 4, 'row': 7, 'columnspan': 1, 'rowspan': 1, 'ipadx': 0, 'ipady': 0, 'padx': 0, 'pady': 0, 'sticky': ''}\n",
      "{'in': <tkinter.Frame object .!frame>, 'column': 5, 'row': 7, 'columnspan': 1, 'rowspan': 1, 'ipadx': 0, 'ipady': 0, 'padx': 0, 'pady': 0, 'sticky': ''}\n",
      "{'in': <tkinter.Frame object .!frame>, 'column': 6, 'row': 7, 'columnspan': 1, 'rowspan': 1, 'ipadx': 0, 'ipady': 0, 'padx': 0, 'pady': 0, 'sticky': ''}\n",
      "{'in': <tkinter.Frame object .!frame>, 'column': 7, 'row': 7, 'columnspan': 1, 'rowspan': 1, 'ipadx': 0, 'ipady': 0, 'padx': 0, 'pady': 0, 'sticky': ''}\n",
      "{'in': <tkinter.Frame object .!frame>, 'column': 8, 'row': 7, 'columnspan': 1, 'rowspan': 1, 'ipadx': 0, 'ipady': 0, 'padx': 0, 'pady': 0, 'sticky': ''}\n",
      "{'in': <tkinter.Frame object .!frame>, 'column': 9, 'row': 7, 'columnspan': 1, 'rowspan': 1, 'ipadx': 0, 'ipady': 0, 'padx': 0, 'pady': 0, 'sticky': ''}\n",
      "{'in': <tkinter.Frame object .!frame>, 'column': 0, 'row': 8, 'columnspan': 1, 'rowspan': 1, 'ipadx': 0, 'ipady': 0, 'padx': 0, 'pady': 0, 'sticky': ''}\n",
      "{'in': <tkinter.Frame object .!frame>, 'column': 1, 'row': 8, 'columnspan': 1, 'rowspan': 1, 'ipadx': 0, 'ipady': 0, 'padx': 0, 'pady': 0, 'sticky': ''}\n",
      "{'in': <tkinter.Frame object .!frame>, 'column': 2, 'row': 8, 'columnspan': 1, 'rowspan': 1, 'ipadx': 0, 'ipady': 0, 'padx': 0, 'pady': 0, 'sticky': ''}\n",
      "{'in': <tkinter.Frame object .!frame>, 'column': 3, 'row': 8, 'columnspan': 1, 'rowspan': 1, 'ipadx': 0, 'ipady': 0, 'padx': 0, 'pady': 0, 'sticky': ''}\n",
      "{'in': <tkinter.Frame object .!frame>, 'column': 4, 'row': 8, 'columnspan': 1, 'rowspan': 1, 'ipadx': 0, 'ipady': 0, 'padx': 0, 'pady': 0, 'sticky': ''}\n",
      "{'in': <tkinter.Frame object .!frame>, 'column': 5, 'row': 8, 'columnspan': 1, 'rowspan': 1, 'ipadx': 0, 'ipady': 0, 'padx': 0, 'pady': 0, 'sticky': ''}\n",
      "{'in': <tkinter.Frame object .!frame>, 'column': 6, 'row': 8, 'columnspan': 1, 'rowspan': 1, 'ipadx': 0, 'ipady': 0, 'padx': 0, 'pady': 0, 'sticky': ''}\n",
      "{'in': <tkinter.Frame object .!frame>, 'column': 7, 'row': 8, 'columnspan': 1, 'rowspan': 1, 'ipadx': 0, 'ipady': 0, 'padx': 0, 'pady': 0, 'sticky': ''}\n",
      "{'in': <tkinter.Frame object .!frame>, 'column': 8, 'row': 8, 'columnspan': 1, 'rowspan': 1, 'ipadx': 0, 'ipady': 0, 'padx': 0, 'pady': 0, 'sticky': ''}\n",
      "{'in': <tkinter.Frame object .!frame>, 'column': 9, 'row': 8, 'columnspan': 1, 'rowspan': 1, 'ipadx': 0, 'ipady': 0, 'padx': 0, 'pady': 0, 'sticky': ''}\n",
      "{'in': <tkinter.Frame object .!frame>, 'column': 0, 'row': 9, 'columnspan': 1, 'rowspan': 1, 'ipadx': 0, 'ipady': 0, 'padx': 0, 'pady': 0, 'sticky': ''}\n",
      "{'in': <tkinter.Frame object .!frame>, 'column': 1, 'row': 9, 'columnspan': 1, 'rowspan': 1, 'ipadx': 0, 'ipady': 0, 'padx': 0, 'pady': 0, 'sticky': ''}\n",
      "{'in': <tkinter.Frame object .!frame>, 'column': 2, 'row': 9, 'columnspan': 1, 'rowspan': 1, 'ipadx': 0, 'ipady': 0, 'padx': 0, 'pady': 0, 'sticky': ''}\n",
      "{'in': <tkinter.Frame object .!frame>, 'column': 3, 'row': 9, 'columnspan': 1, 'rowspan': 1, 'ipadx': 0, 'ipady': 0, 'padx': 0, 'pady': 0, 'sticky': ''}\n",
      "{'in': <tkinter.Frame object .!frame>, 'column': 4, 'row': 9, 'columnspan': 1, 'rowspan': 1, 'ipadx': 0, 'ipady': 0, 'padx': 0, 'pady': 0, 'sticky': ''}\n",
      "{'in': <tkinter.Frame object .!frame>, 'column': 5, 'row': 9, 'columnspan': 1, 'rowspan': 1, 'ipadx': 0, 'ipady': 0, 'padx': 0, 'pady': 0, 'sticky': ''}\n",
      "{'in': <tkinter.Frame object .!frame>, 'column': 6, 'row': 9, 'columnspan': 1, 'rowspan': 1, 'ipadx': 0, 'ipady': 0, 'padx': 0, 'pady': 0, 'sticky': ''}\n",
      "{'in': <tkinter.Frame object .!frame>, 'column': 7, 'row': 9, 'columnspan': 1, 'rowspan': 1, 'ipadx': 0, 'ipady': 0, 'padx': 0, 'pady': 0, 'sticky': ''}\n",
      "{'in': <tkinter.Frame object .!frame>, 'column': 8, 'row': 9, 'columnspan': 1, 'rowspan': 1, 'ipadx': 0, 'ipady': 0, 'padx': 0, 'pady': 0, 'sticky': ''}\n",
      "{'in': <tkinter.Frame object .!frame>, 'column': 9, 'row': 9, 'columnspan': 1, 'rowspan': 1, 'ipadx': 0, 'ipady': 0, 'padx': 0, 'pady': 0, 'sticky': ''}\n"
     ]
    }
   ],
   "source": [
    "temp_list = []\n",
    "button_list = [[\"\"]*10 for y in range(10)]\n",
    "x = 0\n",
    "for button in range(len(button_names)):\n",
    "    button_names[button] = tk.Button()\n",
    "    button_names[button] = tk.Button(button_frame, textvariable=btn_texts[button], width=3,height = 1,borderwidth=1, state = 'normal')    \n",
    "    temp_list.append(button_names[button])\n",
    "    \n",
    "for i in range(10):\n",
    "    for j in range(10):\n",
    "        #button_list[i][j] = tk.Button()        \n",
    "        button_list[i][j] = tk.Button(button_frame, textvariable=btn_texts[x], width=3,height = 1,borderwidth=1, state = 'normal',\n",
    "                                      command= lambda i=i , j=j: showGrid(i,j))\n",
    "        button_list[i][j].grid(row =i, column = j) \n",
    "        print(button_list[i][j].grid_info())\n",
    "        #button_list[i][j] = temp_list[x]\n",
    "        x +=1\n"
   ]
  },
  {
   "cell_type": "code",
   "execution_count": null,
   "metadata": {},
   "outputs": [],
   "source": [
    "for i in range(10):\n",
    "    for j in range(10):\n",
    "        button_list[i][j].grid(row =i, column = j)\n",
    "        button_list[i][j] = tk.Button(command= lambda btn= button_list[i][j]: showGrid(btn))\n",
    "        \n"
   ]
  },
  {
   "cell_type": "code",
   "execution_count": null,
   "metadata": {},
   "outputs": [],
   "source": [
    "#main_window.mainloop()"
   ]
  },
  {
   "cell_type": "code",
   "execution_count": 10,
   "metadata": {},
   "outputs": [],
   "source": [
    "def showGrid(a,b):\n",
    "    row1 = btn.grid_info()['row1']      # Row of the button\n",
    "    column1 = btn.grid_info()['column']   # grid_info will return dictionary with all grid elements (row, column, ipadx, ipday, sticky, rowspan and columnspan)\n",
    "    print(\"Grid position of 'btn': {} {}\".format(row1, column1))\n",
    "    "
   ]
  },
  {
   "cell_type": "code",
   "execution_count": 11,
   "metadata": {},
   "outputs": [],
   "source": [
    "main_window.mainloop()"
   ]
  },
  {
   "cell_type": "code",
   "execution_count": null,
   "metadata": {},
   "outputs": [],
   "source": []
  },
  {
   "cell_type": "code",
   "execution_count": null,
   "metadata": {},
   "outputs": [],
   "source": []
  }
 ],
 "metadata": {
  "kernelspec": {
   "display_name": "Python 3",
   "language": "python",
   "name": "python3"
  },
  "language_info": {
   "codemirror_mode": {
    "name": "ipython",
    "version": 3
   },
   "file_extension": ".py",
   "mimetype": "text/x-python",
   "name": "python",
   "nbconvert_exporter": "python",
   "pygments_lexer": "ipython3",
   "version": "3.7.3"
  }
 },
 "nbformat": 4,
 "nbformat_minor": 2
}
