{
 "cells": [
  {
   "cell_type": "code",
   "execution_count": 1,
   "metadata": {},
   "outputs": [
    {
     "name": "stdout",
     "output_type": "stream",
     "text": [
      "Grid position of 'btn': 6 6\n",
      "Grid position of 'btn': 7 8\n",
      "Grid position of 'btn': 3 7\n",
      "Grid position of 'btn': 0 0\n",
      "Grid position of 'btn': 0 1\n",
      "Grid position of 'btn': 0 2\n",
      "Grid position of 'btn': 0 7\n",
      "Grid position of 'btn': 0 4\n",
      "Grid position of 'btn': 2 2\n",
      "Grid position of 'btn': 2 0\n",
      "Grid position of 'btn': 5 4\n"
     ]
    }
   ],
   "source": [
    "import button_creation as bc\n",
    "import random"
   ]
  },
  {
   "cell_type": "code",
   "execution_count": 2,
   "metadata": {},
   "outputs": [],
   "source": [
    "#bl.main_window.mainloop()"
   ]
  },
  {
   "cell_type": "code",
   "execution_count": 3,
   "metadata": {},
   "outputs": [
    {
     "name": "stdout",
     "output_type": "stream",
     "text": [
      "[3, 9, 7, 0, 9, 1, 6, 3, 9, 5]\n"
     ]
    },
    {
     "data": {
      "text/plain": [
       "[9, 5, 6, 0, 9, 5, 0, 7, 7, 9]"
      ]
     },
     "execution_count": 3,
     "metadata": {},
     "output_type": "execute_result"
    }
   ],
   "source": [
    "\n",
    "x_mine = []\n",
    "y_mine = []\n",
    "\n",
    "for _ in range(10):\n",
    "    x_mine.append(random.randint(0,9))\n",
    "    y_mine.append(random.randint(0,9))\n",
    "    \n",
    "print(x_mine)\n",
    "y_mine\n",
    "\n",
    "# x_mine = [0, 5, 2, 0, 3, 8, 3, 3, 3, 8]\n",
    "# y_mine = [7, 0, 7, 1, 8, 4, 2, 4, 9, 0]\n",
    "\n",
    "    "
   ]
  },
  {
   "cell_type": "code",
   "execution_count": 14,
   "metadata": {},
   "outputs": [
    {
     "data": {
      "text/plain": [
       "[[1, 0, 0, 0, 0, 0, 0, 0, 0, 0],\n",
       " [0, 0, 0, 0, 0, 1, 0, 0, 0, 0],\n",
       " [0, 0, 0, 0, 0, 0, 0, 0, 0, 0],\n",
       " [0, 0, 0, 0, 0, 0, 0, 1, 0, 1],\n",
       " [0, 0, 0, 0, 0, 0, 0, 0, 0, 0],\n",
       " [0, 0, 0, 0, 0, 0, 0, 0, 0, 1],\n",
       " [1, 0, 0, 0, 0, 0, 0, 0, 0, 0],\n",
       " [0, 0, 0, 0, 0, 0, 1, 0, 0, 0],\n",
       " [0, 0, 0, 0, 0, 0, 0, 0, 0, 0],\n",
       " [0, 0, 0, 0, 0, 1, 0, 1, 0, 1]]"
      ]
     },
     "execution_count": 14,
     "metadata": {},
     "output_type": "execute_result"
    }
   ],
   "source": [
    "mines_matrix = [[0]*10 for y in range(10)]\n",
    "mines_index = [] \n",
    "for i in range(10):\n",
    "    mines_matrix[x_mine[i]][y_mine[i]] = 1\n",
    "    mines_index.append([x_mine[i],y_mine[i]])\n",
    "    \n",
    "\n",
    "mines_matrix"
   ]
  },
  {
   "cell_type": "code",
   "execution_count": 12,
   "metadata": {},
   "outputs": [],
   "source": [
    "cell_indication = [[0]*10 for y in range(10)]"
   ]
  },
  {
   "cell_type": "code",
   "execution_count": 15,
   "metadata": {},
   "outputs": [
    {
     "data": {
      "text/plain": [
       "[['*', 1, 0, 0, 1, 1, 1, 0, 0, 0],\n",
       " [1, 1, 0, 0, 1, '*', 1, 0, 0, 0],\n",
       " [0, 0, 0, 0, 1, 1, 2, 1, 2, 1],\n",
       " [0, 0, 0, 0, 0, 0, 1, '*', 2, '*'],\n",
       " [0, 0, 0, 0, 0, 0, 1, 1, 3, 2],\n",
       " [1, 1, 0, 0, 0, 0, 0, 0, 1, '*'],\n",
       " ['*', 1, 0, 0, 0, 1, 1, 1, 1, 1],\n",
       " [1, 1, 0, 0, 0, 1, '*', 1, 0, 0],\n",
       " [0, 0, 0, 0, 1, 2, 3, 2, 2, 1],\n",
       " [0, 0, 0, 0, 1, '*', 2, '*', 2, '*']]"
      ]
     },
     "execution_count": 15,
     "metadata": {},
     "output_type": "execute_result"
    }
   ],
   "source": [
    "for x in range(10):\n",
    "    for y in range(10):\n",
    "        if (mines_matrix[x][y] == 0):\n",
    "            if(x==0):\n",
    "                if(y==0):\n",
    "                    cell_indication[x][y] =mines_matrix[x][y+1] + mines_matrix[x+1][y+1] + mines_matrix[x+1][y]\n",
    "                elif(y>0 and y<9):\n",
    "                    cell_indication[x][y] =mines_matrix[x][y-1] + mines_matrix[x][y+1] + mines_matrix[x+1][y-1] + mines_matrix[x+1][y] + mines_matrix[x+1][y+1]\n",
    "                elif(y==9):\n",
    "                    cell_indication[x][y] =mines_matrix[x][y-1] +  mines_matrix[x+1][y-1] + mines_matrix[x+1][y]\n",
    "            elif(x>0 and x<9):\n",
    "                if(y==0):\n",
    "                    cell_indication[x][y] =mines_matrix[x-1][y] + mines_matrix[x-1][y+1] +  mines_matrix[x][y+1] + mines_matrix[x+1][y] + mines_matrix[x+1][y+1] \n",
    "                elif(y>0 and y<9):\n",
    "                    cell_indication[x][y] =mines_matrix[x-1][y-1] + mines_matrix[x-1][y] + mines_matrix[x-1][y+1] + mines_matrix[x][y-1] + mines_matrix[x][y+1] + mines_matrix[x+1][y-1] + mines_matrix[x+1][y] + mines_matrix[x+1][y+1]\n",
    "\n",
    "                elif(y==9):\n",
    "                    cell_indication[x][y] =mines_matrix[x-1][y-1] + mines_matrix[x-1][y] + mines_matrix[x][y-1] + mines_matrix[x+1][y-1] + mines_matrix[x+1][y]\n",
    "            elif(x==9):\n",
    "                if(y==0):\n",
    "                    cell_indication[x][y] =mines_matrix[x-1][y] + mines_matrix[x-1][y+1]  + mines_matrix[x][y+1]\n",
    "\n",
    "                elif(y>0 and y<9):\n",
    "                    cell_indication[x][y] =mines_matrix[x-1][y-1] + mines_matrix[x-1][y] + mines_matrix[x-1][y+1]+ mines_matrix[x][y-1]  + mines_matrix[x][y+1]                                \n",
    "\n",
    "                elif(y==9):\n",
    "                    cell_indication[x][y] =mines_matrix[x-1][y-1] + mines_matrix[x-1][y] + mines_matrix[x][y-1] \n",
    "        else:\n",
    "            cell_indication[x][y] ='*'\n",
    "            \n",
    "cell_indication"
   ]
  },
  {
   "cell_type": "code",
   "execution_count": 7,
   "metadata": {},
   "outputs": [
    {
     "data": {
      "text/plain": [
       "[[3, 9],\n",
       " [9, 5],\n",
       " [7, 6],\n",
       " [0, 0],\n",
       " [9, 9],\n",
       " [1, 5],\n",
       " [6, 0],\n",
       " [3, 7],\n",
       " [9, 7],\n",
       " [5, 9]]"
      ]
     },
     "execution_count": 7,
     "metadata": {},
     "output_type": "execute_result"
    }
   ],
   "source": [
    "mines_index"
   ]
  },
  {
   "cell_type": "code",
   "execution_count": null,
   "metadata": {},
   "outputs": [],
   "source": []
  }
 ],
 "metadata": {
  "kernelspec": {
   "display_name": "Python 3",
   "language": "python",
   "name": "python3"
  },
  "language_info": {
   "codemirror_mode": {
    "name": "ipython",
    "version": 3
   },
   "file_extension": ".py",
   "mimetype": "text/x-python",
   "name": "python",
   "nbconvert_exporter": "python",
   "pygments_lexer": "ipython3",
   "version": "3.7.3"
  }
 },
 "nbformat": 4,
 "nbformat_minor": 2
}
